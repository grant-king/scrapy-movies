{
 "cells": [
  {
   "cell_type": "markdown",
   "metadata": {},
   "source": [
    "## Movie EDA from Scrapy JSON results\n"
   ]
  },
  {
   "cell_type": "markdown",
   "metadata": {},
   "source": [
    "### Load in movie titles"
   ]
  },
  {
   "cell_type": "code",
   "execution_count": 4,
   "metadata": {},
   "outputs": [
    {
     "name": "stdout",
     "output_type": "stream",
     "text": [
      "1077 titles stored in \"titles\" variable\n"
     ]
    }
   ],
   "source": [
    "import json, re\n",
    "from pprint import pprint\n",
    "from bs4 import BeautifulSoup\n",
    "\n",
    "titles = []\n",
    "\n",
    "with open('hoverlink_text2.json') as json_file:\n",
    "    data = json.load(json_file)\n",
    "    \n",
    "    for link in data:\n",
    "        #create object to hold tree, even though just a tag\n",
    "        soup = BeautifulSoup(link['hoverlink_text'], 'html.parser')\n",
    "        #create <a> tag object from soup object\n",
    "        tag = soup.a\n",
    "        #get title from <a> tag\n",
    "        titles.append(tag.get('title'))\n",
    "print(f'{len(titles)} titles stored in \"titles\" variable')\n",
    "        "
   ]
  },
  {
   "cell_type": "markdown",
   "metadata": {},
   "source": [
    "### Pick a random group to watch from"
   ]
  },
  {
   "cell_type": "code",
   "execution_count": 5,
   "metadata": {},
   "outputs": [
    {
     "name": "stdout",
     "output_type": "stream",
     "text": [
      "The Manitou (1978)\n",
      "Pollyanna (1960)\n",
      "The Sadistic Baron Von Klaus (1962)\n",
      "Out of the Past (1947)\n",
      "Jeepers Creepers 2 (2003)\n",
      "The Devil Within Her (1975)\n",
      "Escape to Witch Mountain (1975)\n",
      "The Red House (1947)\n",
      "The Spiral Staircase (1945)\n",
      "Superstition (1982)\n"
     ]
    }
   ],
   "source": [
    "from random import choice\n",
    "short_list = []\n",
    "\n",
    "for counter in range(10):\n",
    "    short_list.append(choice(titles))\n",
    "\n",
    "_ = [print(item) for item in short_list] "
   ]
  },
  {
   "cell_type": "markdown",
   "metadata": {},
   "source": [
    "### Visualize distribution of years among collection"
   ]
  },
  {
   "cell_type": "code",
   "execution_count": 8,
   "metadata": {},
   "outputs": [
    {
     "name": "stdout",
     "output_type": "stream",
     "text": [
      "There are 40 movies from 1988\n",
      "There are 37 movies from 1981\n",
      "There are 31 movies from 1987\n",
      "There are 26 movies from 1982\n",
      "There are 25 movies from 1980\n",
      "There are 24 movies from 1972\n"
     ]
    }
   ],
   "source": [
    "def get_year(title):\n",
    "    \"\"\"extract year or starting year from parenthesis in movie title\"\"\"\n",
    "    #match 4 year digits or 8 digit range if framed by parenthesis\n",
    "    pattern = r'(?<=\\()(\\d{4}|\\d{4}-\\d{4})(?=\\))'\n",
    "    year_str = re.findall(pattern, title)\n",
    "    if '-' in year_str[0]:\n",
    "        year_range = year_str[0].split('-')\n",
    "        return list(map(int, year_range))[0]\n",
    "    else:\n",
    "        return int(year_str[0])\n",
    "    \n",
    "def count_elements(seq) -> dict:\n",
    "    \"\"\"Tally elements from `seq`.\"\"\"\n",
    "    hist = {}\n",
    "    for i in seq:\n",
    "        #add 1 to value for i or to 0 if i not found\n",
    "        hist[i] = hist.get(i, 0) + 1\n",
    "    return hist\n",
    "\n",
    "years_list = list(map(get_year, titles))\n",
    "year_counts = count_elements(years_list)\n",
    "\n",
    "#determine top 10 movie years\n",
    "top_ten = sorted(year_counts.items(), key=lambda year_count_tuple: year_count_tuple[1], reverse=True)[:6]\n",
    "\n",
    "for year, count in top_ten:\n",
    "    print(f'There are {count} movies from {year}')"
   ]
  },
  {
   "cell_type": "code",
   "execution_count": 7,
   "metadata": {},
   "outputs": [
    {
     "data": {
      "image/png": "[encoded data removed]",
      "text/plain": [
       "<matplotlib.figure.Figure at 0x2421a360b00>"
      ]
     },
     "metadata": {},
     "output_type": "display_data"
    }
   ],
   "source": [
    "%matplotlib inline\n",
    "from matplotlib import pyplot\n",
    "\n",
    "years_list = list(map(get_year, titles))\n",
    "_ = pyplot.hist(years_list, 50)"
   ]
  },
  {
   "cell_type": "code",
   "execution_count": null,
   "metadata": {},
   "outputs": [],
   "source": []
  }
 ],
 "metadata": {
  "kernelspec": {
   "display_name": "Python 3",
   "language": "python",
   "name": "python3"
  },
  "language_info": {
   "codemirror_mode": {
    "name": "ipython",
    "version": 3
   },
   "file_extension": ".py",
   "mimetype": "text/x-python",
   "name": "python",
   "nbconvert_exporter": "python",
   "pygments_lexer": "ipython3",
   "version": "3.6.8"
  }
 },
 "nbformat": 4,
 "nbformat_minor": 2
}
